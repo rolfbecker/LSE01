{
 "cells": [
  {
   "cell_type": "markdown",
   "metadata": {},
   "source": [
    "# TTN Dragino LSE01 - MQTT Subscriber"
   ]
  },
  {
   "cell_type": "code",
   "execution_count": null,
   "metadata": {},
   "outputs": [
    {
     "name": "stdout",
     "output_type": "stream",
     "text": [
      "Trying to connect to: eu.thethings.network:8883\n",
      "Connected with result code: 0\n",
      "Subscribed to topic: +/devices/+/up\n",
      "TOPIC: hsrw_iotlab_lse01/devices/lse01_n001/up\n",
      "PAYLOAD: {'app_id': 'hsrw_iotlab_lse01', 'dev_id': 'lse01_n001', 'hardware_serial': 'A8404181B18264AA', 'port': 2, 'counter': 1268, 'payload_raw': 'DNoAAAgVBi4vRAE=', 'payload_fields': {'battery_voltage': {'comment': 'LSE01 battery voltage', 'unit': 'V', 'value': 3.29}, 'extra_temperature_sensor': {'comment': 'Temperature from an extra DS18B20. Not connected by default.', 'unit': '°C', 'value': '0.00'}, 'soil_sensor': {'electrical_conductivity': {'comment': 'Soil electrical conductivity (EC)', 'unit': 'uS/cm', 'value': 12100}, 'moisture': {'comment': 'Volumetric soil water content', 'unit': '%vol', 'value': '20.69'}, 'temperature': {'comment': 'Soil temperature', 'unit': '°C', 'value': '15.82'}}}, 'metadata': {'time': '2021-01-03T13:40:26.310713372Z', 'frequency': 867.7, 'modulation': 'LORA', 'data_rate': 'SF7BW125', 'airtime': 61696000, 'coding_rate': '4/5', 'gateways': [{'gtw_id': 'eui-b827ebfffeeb09b2', 'timestamp': 2816556876, 'time': '2021-01-03T13:40:26.290903Z', 'channel': 6, 'rssi': -51, 'snr': 9.8, 'rf_chain': 0}]}}\n",
      "TOPIC: hsrw_iotlab_lse01/devices/lse01_n001/up\n",
      "PAYLOAD: {'app_id': 'hsrw_iotlab_lse01', 'dev_id': 'lse01_n001', 'hardware_serial': 'A8404181B18264AA', 'port': 2, 'counter': 1269, 'payload_raw': 'DNYAAAg2Bi8vqAE=', 'payload_fields': {'battery_voltage': {'comment': 'LSE01 battery voltage', 'unit': 'V', 'value': 3.286}, 'extra_temperature_sensor': {'comment': 'Temperature from an extra DS18B20. Not connected by default.', 'unit': '°C', 'value': '0.00'}, 'soil_sensor': {'electrical_conductivity': {'comment': 'Soil electrical conductivity (EC)', 'unit': 'uS/cm', 'value': 12200}, 'moisture': {'comment': 'Volumetric soil water content', 'unit': '%vol', 'value': '21.02'}, 'temperature': {'comment': 'Soil temperature', 'unit': '°C', 'value': '15.83'}}}, 'metadata': {'time': '2021-01-03T13:41:26.310044759Z', 'frequency': 868.5, 'modulation': 'LORA', 'data_rate': 'SF7BW125', 'airtime': 61696000, 'coding_rate': '4/5', 'gateways': [{'gtw_id': 'eui-b827ebfffeeb09b2', 'timestamp': 2876557731, 'time': '2021-01-03T13:41:26.291189Z', 'channel': 2, 'rssi': -58, 'snr': 6.8, 'rf_chain': 0}]}}\n",
      "TOPIC: hsrw_iotlab_lse01/devices/lse01_n001/up\n",
      "PAYLOAD: {'app_id': 'hsrw_iotlab_lse01', 'dev_id': 'lse01_n001', 'hardware_serial': 'A8404181B18264AA', 'port': 2, 'counter': 1270, 'payload_raw': 'DNwAAAg3BjEvqAE=', 'payload_fields': {'battery_voltage': {'comment': 'LSE01 battery voltage', 'unit': 'V', 'value': 3.292}, 'extra_temperature_sensor': {'comment': 'Temperature from an extra DS18B20. Not connected by default.', 'unit': '°C', 'value': '0.00'}, 'soil_sensor': {'electrical_conductivity': {'comment': 'Soil electrical conductivity (EC)', 'unit': 'uS/cm', 'value': 12200}, 'moisture': {'comment': 'Volumetric soil water content', 'unit': '%vol', 'value': '21.03'}, 'temperature': {'comment': 'Soil temperature', 'unit': '°C', 'value': '15.85'}}}, 'metadata': {'time': '2021-01-03T13:42:26.303411123Z', 'frequency': 867.1, 'modulation': 'LORA', 'data_rate': 'SF7BW125', 'airtime': 61696000, 'coding_rate': '4/5', 'gateways': [{'gtw_id': 'eui-b827ebfffeeb09b2', 'timestamp': 2936558587, 'time': '2021-01-03T13:42:26.28362Z', 'channel': 3, 'rssi': -55, 'snr': 9.2, 'rf_chain': 0}]}}\n",
      "TOPIC: hsrw_iotlab_lse01/devices/lse01_n001/up\n",
      "PAYLOAD: {'app_id': 'hsrw_iotlab_lse01', 'dev_id': 'lse01_n001', 'hardware_serial': 'A8404181B18264AA', 'port': 2, 'counter': 1271, 'payload_raw': 'DNgAAAgpBjQvqAE=', 'payload_fields': {'battery_voltage': {'comment': 'LSE01 battery voltage', 'unit': 'V', 'value': 3.288}, 'extra_temperature_sensor': {'comment': 'Temperature from an extra DS18B20. Not connected by default.', 'unit': '°C', 'value': '0.00'}, 'soil_sensor': {'electrical_conductivity': {'comment': 'Soil electrical conductivity (EC)', 'unit': 'uS/cm', 'value': 12200}, 'moisture': {'comment': 'Volumetric soil water content', 'unit': '%vol', 'value': '20.89'}, 'temperature': {'comment': 'Soil temperature', 'unit': '°C', 'value': '15.88'}}}, 'metadata': {'time': '2021-01-03T13:43:26.303219011Z', 'frequency': 868.3, 'modulation': 'LORA', 'data_rate': 'SF7BW125', 'airtime': 61696000, 'coding_rate': '4/5', 'gateways': [{'gtw_id': 'eui-b827ebfffeeb09b2', 'timestamp': 2996559451, 'time': '2021-01-03T13:43:26.285559Z', 'channel': 1, 'rssi': -60, 'snr': 9.8, 'rf_chain': 0}]}}\n",
      "TOPIC: hsrw_iotlab_lse01/devices/lse01_n001/up\n",
      "PAYLOAD: {'app_id': 'hsrw_iotlab_lse01', 'dev_id': 'lse01_n001', 'hardware_serial': 'A8404181B18264AA', 'port': 2, 'counter': 1272, 'payload_raw': 'DMcAAAgVBjYvRAE=', 'payload_fields': {'battery_voltage': {'comment': 'LSE01 battery voltage', 'unit': 'V', 'value': 3.271}, 'extra_temperature_sensor': {'comment': 'Temperature from an extra DS18B20. Not connected by default.', 'unit': '°C', 'value': '0.00'}, 'soil_sensor': {'electrical_conductivity': {'comment': 'Soil electrical conductivity (EC)', 'unit': 'uS/cm', 'value': 12100}, 'moisture': {'comment': 'Volumetric soil water content', 'unit': '%vol', 'value': '20.69'}, 'temperature': {'comment': 'Soil temperature', 'unit': '°C', 'value': '15.90'}}}, 'metadata': {'time': '2021-01-03T13:44:26.303263601Z', 'frequency': 868.3, 'modulation': 'LORA', 'data_rate': 'SF7BW125', 'airtime': 61696000, 'coding_rate': '4/5', 'gateways': [{'gtw_id': 'eui-b827ebfffeeb09b2', 'timestamp': 3056560315, 'time': '2021-01-03T13:44:26.284821Z', 'channel': 1, 'rssi': -57, 'snr': 8.8, 'rf_chain': 0}]}}\n",
      "TOPIC: hsrw_iotlab_lse01/devices/lse01_n001/up\n",
      "PAYLOAD: {'app_id': 'hsrw_iotlab_lse01', 'dev_id': 'lse01_n001', 'hardware_serial': 'A8404181B18264AA', 'port': 2, 'counter': 1273, 'payload_raw': 'DMcAAAgEBjgu4AE=', 'payload_fields': {'battery_voltage': {'comment': 'LSE01 battery voltage', 'unit': 'V', 'value': 3.271}, 'extra_temperature_sensor': {'comment': 'Temperature from an extra DS18B20. Not connected by default.', 'unit': '°C', 'value': '0.00'}, 'soil_sensor': {'electrical_conductivity': {'comment': 'Soil electrical conductivity (EC)', 'unit': 'uS/cm', 'value': 12000}, 'moisture': {'comment': 'Volumetric soil water content', 'unit': '%vol', 'value': '20.52'}, 'temperature': {'comment': 'Soil temperature', 'unit': '°C', 'value': '15.92'}}}, 'metadata': {'time': '2021-01-03T13:45:26.313505228Z', 'frequency': 867.7, 'modulation': 'LORA', 'data_rate': 'SF7BW125', 'airtime': 61696000, 'coding_rate': '4/5', 'gateways': [{'gtw_id': 'eui-b827ebfffeeb09b2', 'timestamp': 3116561172, 'time': '2021-01-03T13:45:26.295059Z', 'channel': 6, 'rssi': -57, 'snr': 10, 'rf_chain': 0}]}}\n",
      "TOPIC: hsrw_iotlab_lse01/devices/lse01_n001/up\n",
      "PAYLOAD: {'app_id': 'hsrw_iotlab_lse01', 'dev_id': 'lse01_n001', 'hardware_serial': 'A8404181B18264AA', 'port': 2, 'counter': 1274, 'payload_raw': 'DKUAAAfyBjou4AE=', 'payload_fields': {'battery_voltage': {'comment': 'LSE01 battery voltage', 'unit': 'V', 'value': 3.237}, 'extra_temperature_sensor': {'comment': 'Temperature from an extra DS18B20. Not connected by default.', 'unit': '°C', 'value': '0.00'}, 'soil_sensor': {'electrical_conductivity': {'comment': 'Soil electrical conductivity (EC)', 'unit': 'uS/cm', 'value': 12000}, 'moisture': {'comment': 'Volumetric soil water content', 'unit': '%vol', 'value': '20.34'}, 'temperature': {'comment': 'Soil temperature', 'unit': '°C', 'value': '15.94'}}}, 'metadata': {'time': '2021-01-03T13:46:26.305238186Z', 'frequency': 868.1, 'modulation': 'LORA', 'data_rate': 'SF7BW125', 'airtime': 61696000, 'coding_rate': '4/5', 'gateways': [{'gtw_id': 'eui-b827ebfffeeb09b2', 'timestamp': 3176562035, 'time': '2021-01-03T13:46:26.286532Z', 'channel': 0, 'rssi': -59, 'snr': 10, 'rf_chain': 0}]}}\n",
      "TOPIC: hsrw_iotlab_lse01/devices/lse01_n001/up\n",
      "PAYLOAD: {'app_id': 'hsrw_iotlab_lse01', 'dev_id': 'lse01_n001', 'hardware_serial': 'A8404181B18264AA', 'port': 2, 'counter': 1275, 'payload_raw': 'DNIAAAgrBjwvRAE=', 'payload_fields': {'battery_voltage': {'comment': 'LSE01 battery voltage', 'unit': 'V', 'value': 3.282}, 'extra_temperature_sensor': {'comment': 'Temperature from an extra DS18B20. Not connected by default.', 'unit': '°C', 'value': '0.00'}, 'soil_sensor': {'electrical_conductivity': {'comment': 'Soil electrical conductivity (EC)', 'unit': 'uS/cm', 'value': 12100}, 'moisture': {'comment': 'Volumetric soil water content', 'unit': '%vol', 'value': '20.91'}, 'temperature': {'comment': 'Soil temperature', 'unit': '°C', 'value': '15.96'}}}, 'metadata': {'time': '2021-01-03T13:47:25.997270233Z', 'frequency': 867.3, 'modulation': 'LORA', 'data_rate': 'SF7BW125', 'airtime': 61696000, 'coding_rate': '4/5', 'gateways': [{'gtw_id': 'eui-b827ebfffeeb09b2', 'timestamp': 3236252339, 'time': '2021-01-03T13:47:25.978615Z', 'channel': 4, 'rssi': -57, 'snr': 9.2, 'rf_chain': 0}]}}\n"
     ]
    }
   ],
   "source": [
    "import paho.mqtt.client as mqtt\n",
    "import json\n",
    "\n",
    "ttn_mqtt_broker  = 'eu.thethings.network'\n",
    "ttn_mqtt_port    = 8883\n",
    "ttn_mqtt_timeout = 60\n",
    "\n",
    "ttn_mqtt_sub_topic = '+/devices/+/up'\n",
    "\n",
    "# TTN Application ID and default TTN Application Access Key generated durring TTN app creation\n",
    "ttn_app_id         = \"hsrw_iotlab_lse01\"\n",
    "ttn_app_access_key = \"ttn-account-v2.0xngX41yI5MwO3Kyv6eHaK5GDGiUq8V_Pf0LBMKHXHU\"\n",
    "\n",
    "# The callback for when the client receives a CONNACK response from the server.\n",
    "def on_connect(client, userdata, flags, rc):\n",
    "    print(\"Trying to connect to: %s:%d\" % (ttn_mqtt_broker, ttn_mqtt_port))    \n",
    "    print('Connected with result code: '+str(rc))\n",
    "    client.subscribe(ttn_mqtt_sub_topic)\n",
    "    print('Subscribed to topic: %s' % (ttn_mqtt_sub_topic)) \n",
    "    \n",
    "# The callback for when a PUBLISH message is received from the server.\n",
    "def on_message(client, userdata, msg):\n",
    "    topic = msg.topic\n",
    "    print(\"TOPIC: %s\" % (topic))\n",
    "    payload = json.loads(msg.payload)\n",
    "    print(\"PAYLOAD: %s\" % (payload))\n",
    "\n",
    "# Create the MQTT client\n",
    "client = mqtt.Client()\n",
    "\n",
    "# Bind callback functions to client\n",
    "client.on_connect = on_connect\n",
    "client.on_message = on_message\n",
    "\n",
    "# Use secure rransmission\n",
    "client.tls_set()\n",
    "\n",
    "# Use TTN App ID and TTN Access Key as MQTT Username and Password.\n",
    "client.username_pw_set(username = ttn_app_id, password = ttn_app_access_key)\n",
    "\n",
    "# Connect the client to the broker. \n",
    "# This provokes the execution of the on_connect() function.\n",
    "# Within on_connect() the subscribe() function is called.\n",
    "client.connect(ttn_mqtt_broker, ttn_mqtt_port, ttn_mqtt_timeout)\n",
    "\n",
    "# Whenever a message is received the on_message() callback function is called.\n",
    "client.loop_forever()"
   ]
  },
  {
   "cell_type": "code",
   "execution_count": null,
   "metadata": {},
   "outputs": [],
   "source": []
  },
  {
   "cell_type": "code",
   "execution_count": null,
   "metadata": {},
   "outputs": [],
   "source": []
  }
 ],
 "metadata": {
  "kernelspec": {
   "display_name": "Python 3",
   "language": "python",
   "name": "python3"
  },
  "language_info": {
   "codemirror_mode": {
    "name": "ipython",
    "version": 3
   },
   "file_extension": ".py",
   "mimetype": "text/x-python",
   "name": "python",
   "nbconvert_exporter": "python",
   "pygments_lexer": "ipython3",
   "version": "3.8.5"
  }
 },
 "nbformat": 4,
 "nbformat_minor": 4
}
