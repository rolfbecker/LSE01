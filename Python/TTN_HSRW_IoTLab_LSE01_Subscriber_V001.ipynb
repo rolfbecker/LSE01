{
 "cells": [
  {
   "cell_type": "markdown",
   "metadata": {},
   "source": [
    "# TTN Dragino LSE01 - MQTT Subscriber"
   ]
  },
  {
   "cell_type": "code",
   "execution_count": null,
   "metadata": {},
   "outputs": [],
   "source": [
    "import paho.mqtt.client as mqtt\n",
    "import json\n",
    "\n",
    "ttn_mqtt_broker  = 'eu.thethings.network'\n",
    "ttn_mqtt_port    = 8883\n",
    "ttn_mqtt_timeout = 60\n",
    "\n",
    "ttn_mqtt_sub_topic = '+/devices/+/up'\n",
    "\n",
    "# TTN Application ID and default TTN Application Access Key generated durring TTN app creation\n",
    "ttn_app_id         = \"hsrw_iotlab_lse01\"\n",
    "ttn_app_access_key = \"ttn-account-v2.0xngX41yI5MwO3Kyv6eHaK5GDGiUq8V_Pf0LBMKHXHU\"\n",
    "\n",
    "# The callback for when the client receives a CONNACK response from the server.\n",
    "def on_connect(client, userdata, flags, rc):\n",
    "    print(\"Trying to connect to: %s:%d\" % (ttn_mqtt_broker, ttn_mqtt_port))    \n",
    "    print('Connected with result code: '+str(rc))\n",
    "    client.subscribe(ttn_mqtt_sub_topic)\n",
    "    print('Subscribed to topic: %s' % (ttn_mqtt_sub_topic)) \n",
    "    \n",
    "# The callback for when a PUBLISH message is received from the server.\n",
    "def on_message(client, userdata, msg):\n",
    "    topic = msg.topic\n",
    "    print(\"TOPIC: %s\" % (topic))\n",
    "    payload = json.loads(msg.payload)\n",
    "    print(\"PAYLOAD: %s\" % (payload))\n",
    "\n",
    "# Create the MQTT client\n",
    "client = mqtt.Client()\n",
    "\n",
    "# Bind callback functions to client\n",
    "client.on_connect = on_connect\n",
    "client.on_message = on_message\n",
    "\n",
    "# Use secure rransmission\n",
    "client.tls_set()\n",
    "\n",
    "# Use TTN App ID and TTN Access Key as MQTT Username and Password.\n",
    "client.username_pw_set(username = ttn_app_id, password = ttn_app_access_key)\n",
    "\n",
    "# Connect the client to the broker. \n",
    "# This provokes the execution of the on_connect() function.\n",
    "# Within on_connect() the subscribe() function is called.\n",
    "client.connect(ttn_mqtt_broker, ttn_mqtt_port, ttn_mqtt_timeout)\n",
    "\n",
    "# Whenever a message is received the on_message() callback function is called.\n",
    "client.loop_forever()"
   ]
  },
  {
   "cell_type": "code",
   "execution_count": null,
   "metadata": {},
   "outputs": [],
   "source": []
  },
  {
   "cell_type": "code",
   "execution_count": null,
   "metadata": {},
   "outputs": [],
   "source": []
  }
 ],
 "metadata": {
  "kernelspec": {
   "display_name": "Python 3",
   "language": "python",
   "name": "python3"
  },
  "language_info": {
   "codemirror_mode": {
    "name": "ipython",
    "version": 3
   },
   "file_extension": ".py",
   "mimetype": "text/x-python",
   "name": "python",
   "nbconvert_exporter": "python",
   "pygments_lexer": "ipython3",
   "version": "3.8.5"
  }
 },
 "nbformat": 4,
 "nbformat_minor": 4
}
